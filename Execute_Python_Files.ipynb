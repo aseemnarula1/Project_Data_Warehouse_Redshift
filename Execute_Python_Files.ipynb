{
 "cells": [
  {
   "cell_type": "code",
   "execution_count": 1,
   "metadata": {},
   "outputs": [
    {
     "name": "stdout",
     "output_type": "stream",
     "text": [
      "Entering the SQL_Queries module\r\n",
      "Log Data---> 's3://udacity-dend/log_data'\r\n",
      "Song Data---> 's3://udacity-dend/song_data'\r\n",
      "IAM Role----> arn:aws:iam::279950413565:role/myRedshiftRole\r\n",
      "Log Path----> 's3://udacity-dend/log_json_path.json'\r\n",
      "Starting the dropping and re-creating the facts and dimension tables\r\n",
      "Finishing the dropping and re-creating the facts and dimension tables\r\n",
      "Creating the Staging Events table\r\n",
      "Creating the Staging Songs table\r\n",
      "Creating the Songs Play Fact table\r\n",
      "Creating the Users Dimension table\r\n",
      "Creating the Songs Dimension table\r\n",
      "Creating the Artists Dimension table\r\n",
      "Creating the Time Dimension table\r\n",
      "Creating the Staging Events Copy table\r\n",
      "Creating the Staging Songs Copy table\r\n",
      "Inserting table data into the Songplays table\r\n",
      "Inserting data into the users table for page 'NextSong' \r\n",
      "Inserting data into the users table for page 'NextSong' \r\n",
      " Fetching the de-duplicated 'DISTINCT' records from the staging songs tables \r\n",
      "Extracting the Hour, Day, Week, Month, Year, Day of the Week each separately from the timestamp column from staging events table\r\n",
      "Running final table queries\r\n",
      "Exiting the sql queries module\r\n"
     ]
    }
   ],
   "source": [
    "! python create_tables.py\n"
   ]
  },
  {
   "cell_type": "code",
   "execution_count": null,
   "metadata": {},
   "outputs": [
    {
     "name": "stdout",
     "output_type": "stream",
     "text": [
      "Entering the SQL_Queries module\n",
      "Log Data---> 's3://udacity-dend/log_data'\n",
      "Song Data---> 's3://udacity-dend/song_data'\n",
      "IAM Role----> arn:aws:iam::279950413565:role/myRedshiftRole\n",
      "Log Path----> 's3://udacity-dend/log_json_path.json'\n",
      "Starting the dropping and re-creating the facts and dimension tables\n",
      "Finishing the dropping and re-creating the facts and dimension tables\n",
      "Creating the Staging Events table\n",
      "Creating the Staging Songs table\n",
      "Creating the Songs Play Fact table\n",
      "Creating the Users Dimension table\n",
      "Creating the Songs Dimension table\n",
      "Creating the Artists Dimension table\n",
      "Creating the Time Dimension table\n",
      "Creating the Staging Events Copy table\n",
      "Creating the Staging Songs Copy table\n",
      "Inserting table data into the Songplays table\n",
      "Inserting data into the users table for page 'NextSong' \n",
      "Inserting data into the users table for page 'NextSong' \n",
      " Fetching the de-duplicated 'DISTINCT' records from the staging songs tables \n",
      "Extracting the Hour, Day, Week, Month, Year, Day of the Week each separately from the timestamp column from staging events table\n",
      "Running final table queries\n",
      "Exiting the sql queries module\n",
      "Entering the ETL module\n",
      "Calling load staging table cluster connection\n"
     ]
    }
   ],
   "source": [
    "! python etl.py"
   ]
  },
  {
   "cell_type": "code",
   "execution_count": null,
   "metadata": {},
   "outputs": [],
   "source": []
  }
 ],
 "metadata": {
  "kernelspec": {
   "display_name": "Python 3",
   "language": "python",
   "name": "python3"
  },
  "language_info": {
   "codemirror_mode": {
    "name": "ipython",
    "version": 3
   },
   "file_extension": ".py",
   "mimetype": "text/x-python",
   "name": "python",
   "nbconvert_exporter": "python",
   "pygments_lexer": "ipython3",
   "version": "3.6.3"
  }
 },
 "nbformat": 4,
 "nbformat_minor": 2
}
